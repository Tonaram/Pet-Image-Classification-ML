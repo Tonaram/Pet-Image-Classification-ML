{
  "nbformat": 4,
  "nbformat_minor": 0,
  "metadata": {
    "colab": {
      "provenance": [],
      "include_colab_link": true
    },
    "kernelspec": {
      "name": "python3",
      "display_name": "Python 3"
    },
    "language_info": {
      "name": "python"
    }
  },
  "cells": [
    {
      "cell_type": "markdown",
      "metadata": {
        "id": "view-in-github",
        "colab_type": "text"
      },
      "source": [
        "<a href=\"https://colab.research.google.com/github/Tonaram/Pet-Image-Classification-ML/blob/main/CNN_Improved_Image_Classification.ipynb\" target=\"_parent\"><img src=\"https://colab.research.google.com/assets/colab-badge.svg\" alt=\"Open In Colab\"/></a>"
      ]
    },
    {
      "cell_type": "code",
      "execution_count": null,
      "metadata": {
        "id": "85ZMaZW0Zn8R",
        "colab": {
          "base_uri": "https://localhost:8080/"
        },
        "outputId": "9faf7b4e-dca6-44ce-b72f-a8c929578622"
      },
      "outputs": [
        {
          "output_type": "stream",
          "name": "stdout",
          "text": [
            "Mounted at /content/drive\n"
          ]
        }
      ],
      "source": [
        "from google.colab import drive\n",
        "drive.mount('/content/drive')"
      ]
    },
    {
      "cell_type": "code",
      "source": [
        "import os\n",
        "import numpy as np\n",
        "from tensorflow.keras.preprocessing.image import ImageDataGenerator\n",
        "from tensorflow.keras.models import Sequential\n",
        "from tensorflow.keras.layers import Dense, Flatten, Conv2D, MaxPooling2D\n",
        "import matplotlib.pyplot as plt\n",
        "from sklearn.metrics import confusion_matrix"
      ],
      "metadata": {
        "id": "TBi1WKoCeTpn"
      },
      "execution_count": null,
      "outputs": []
    },
    {
      "cell_type": "code",
      "source": [
        "# 1. Define las rutas a las carpetas de imágenes de gatos y perros\n",
        "data_dir = '/content/drive/MyDrive/Colab Notebooks/proyecto_data/'"
      ],
      "metadata": {
        "id": "V6GYd-kkegNz"
      },
      "execution_count": null,
      "outputs": []
    },
    {
      "cell_type": "code",
      "source": [
        "# 2. Crea generadores de imágenes\n",
        "datagen = ImageDataGenerator(rescale=1./255, validation_split=0.3)\n",
        "\n",
        "train_generator = datagen.flow_from_directory(\n",
        "    data_dir,\n",
        "    target_size=(128, 128),\n",
        "    batch_size=32,\n",
        "    class_mode='categorical',\n",
        "    subset='training',\n",
        "    classes=['cats', 'dogs']  # Solo considera las carpetas 'cats' y 'dogs'\n",
        ")\n",
        "\n",
        "validation_generator = datagen.flow_from_directory(\n",
        "    data_dir,\n",
        "    target_size=(128, 128),\n",
        "    batch_size=32,\n",
        "    class_mode='categorical',\n",
        "    subset='validation',\n",
        "    classes=['cats', 'dogs']  # Solo considera las carpetas 'cats' y 'dogs'\n",
        ")"
      ],
      "metadata": {
        "id": "tSh3sIeHewXD",
        "colab": {
          "base_uri": "https://localhost:8080/"
        },
        "outputId": "47570c99-e660-453e-8542-d630823b7ce2"
      },
      "execution_count": null,
      "outputs": [
        {
          "output_type": "stream",
          "name": "stdout",
          "text": [
            "Found 17161 images belonging to 2 classes.\n",
            "Found 7353 images belonging to 2 classes.\n"
          ]
        }
      ]
    },
    {
      "cell_type": "code",
      "source": [
        "# 3. Define el modelo\n",
        "model = Sequential()\n",
        "model.add(Conv2D(32, (3, 3), activation='relu', input_shape=(128, 128, 3)))\n",
        "model.add(MaxPooling2D((2, 2)))\n",
        "model.add(Conv2D(64, (3, 3), activation='relu'))\n",
        "model.add(MaxPooling2D((2, 2)))\n",
        "model.add(Conv2D(64, (3, 3), activation='relu'))\n",
        "model.add(Flatten())\n",
        "model.add(Dense(64, activation='relu'))\n",
        "model.add(Dense(2, activation='softmax'))\n",
        "\n",
        "model.compile(optimizer='adam', loss='categorical_crossentropy', metrics=['accuracy'])"
      ],
      "metadata": {
        "id": "rFni16stq2nZ"
      },
      "execution_count": null,
      "outputs": []
    },
    {
      "cell_type": "code",
      "source": [
        "print(train_generator.class_indices)\n"
      ],
      "metadata": {
        "colab": {
          "base_uri": "https://localhost:8080/"
        },
        "id": "gM1MNKitxc9C",
        "outputId": "9eb85357-6dc2-49af-965d-f2acad1cb151"
      },
      "execution_count": null,
      "outputs": [
        {
          "output_type": "stream",
          "name": "stdout",
          "text": [
            "{'cats': 0, 'dogs': 1}\n"
          ]
        }
      ]
    },
    {
      "cell_type": "code",
      "source": [
        "# 4. Entrena y evalúa el modelo\n",
        "model.fit(train_generator, epochs=10)\n",
        "model.evaluate(validation_generator)"
      ],
      "metadata": {
        "id": "4tQwatVSq7fJ",
        "colab": {
          "base_uri": "https://localhost:8080/"
        },
        "outputId": "5a02a4e4-981b-4ec0-94f5-bc5b1dbda72f"
      },
      "execution_count": null,
      "outputs": [
        {
          "output_type": "stream",
          "name": "stdout",
          "text": [
            "Epoch 1/10\n",
            "537/537 [==============================] - 3057s 6s/step - loss: 0.6450 - accuracy: 0.6319\n",
            "Epoch 2/10\n",
            "537/537 [==============================] - 347s 645ms/step - loss: 0.5361 - accuracy: 0.7303\n",
            "Epoch 3/10\n",
            "537/537 [==============================] - 354s 658ms/step - loss: 0.4756 - accuracy: 0.7742\n",
            "Epoch 4/10\n",
            "537/537 [==============================] - 350s 651ms/step - loss: 0.4047 - accuracy: 0.8176\n",
            "Epoch 5/10\n",
            "537/537 [==============================] - 352s 655ms/step - loss: 0.3500 - accuracy: 0.8442\n",
            "Epoch 6/10\n",
            "537/537 [==============================] - 349s 649ms/step - loss: 0.2953 - accuracy: 0.8711\n",
            "Epoch 7/10\n",
            "537/537 [==============================] - 347s 647ms/step - loss: 0.2300 - accuracy: 0.9013\n",
            "Epoch 8/10\n",
            "537/537 [==============================] - 350s 652ms/step - loss: 0.1672 - accuracy: 0.9314\n",
            "Epoch 9/10\n",
            "537/537 [==============================] - 344s 640ms/step - loss: 0.1243 - accuracy: 0.9469\n",
            "Epoch 10/10\n",
            "537/537 [==============================] - 348s 648ms/step - loss: 0.0875 - accuracy: 0.9646\n",
            "230/230 [==============================] - 1375s 6s/step - loss: 0.6849 - accuracy: 0.8085\n"
          ]
        },
        {
          "output_type": "execute_result",
          "data": {
            "text/plain": [
              "[0.6848775744438171, 0.8085135221481323]"
            ]
          },
          "metadata": {},
          "execution_count": 7
        }
      ]
    }
  ]
}